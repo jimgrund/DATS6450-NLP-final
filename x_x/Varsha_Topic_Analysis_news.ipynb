{
 "cells": [
  {
   "cell_type": "code",
   "execution_count": 59,
   "metadata": {},
   "outputs": [
    {
     "name": "stdout",
     "output_type": "stream",
     "text": [
      "https://www.bbc.com/news/correspondents/anthonyzurcher?intlink_from_url=&link_location=live-reporting-correspondent\n",
      "Anthony Zurcher\n",
      "US mid-term elections: The Republican who changed his mind over guns\n",
      "\n",
      "Media playback is unsupported on your device Media caption Governor Scott was heckled by protesters as he signed gun-control legislation\n",
      "\n",
      "Not long ago Republican Phil Scott was one of the most popular governors in America, poised for a comfortable re-election in November. Then, after a possible school shooting was discovered by police in Vermont, he decided to support sweeping gun-control legislation - and has reaped a political whirlwind.\n",
      "\n",
      "The Vermont governor stands at a lectern in front of the state capitol building in Montpelier on a grey, blustery April day earlier this year. His wife and various politicians, officials and dignitaries stand behind him. Before him, a motley crowd. Some are cheering; others are angry - and loud.\n",
      "\n",
      "He's talking about gun control, a subject that touches raw nerves across the US, even in serene, bucolic Vermont. Perhaps especially in Vermont.\n",
      "\n",
      "\"On February 16,\" he begins to a crescendo of jeers, \"I was in my office preparing for the day ahead, when everything changed.\"\n",
      "\n",
      "He relates how he received an affidavit that morning detailing the arrest of 18-year-old Jack Sawyer, who law enforcement officials said was in the midst of plotting a mass shooting at a high school in Fair Haven, a small town in the western part of the state.\n",
      "\n"
     ]
    }
   ],
   "source": [
    "import pandas as pd\n",
    "\n",
    "path =\"/Users/varsha/.spyder-py3/news-data/bbc_us_politics--Anthony_Zurcher.txt\"\n",
    "data = open(path,'r')\n",
    "new_data = data.read()\n",
    "print(new_data)"
   ]
  },
  {
   "cell_type": "code",
   "execution_count": 51,
   "metadata": {},
   "outputs": [],
   "source": [
    "import gensim\n",
    "from gensim.utils import simple_preprocess\n",
    "from gensim.parsing.preprocessing import STOPWORDS\n",
    "from nltk.stem import WordNetLemmatizer, SnowballStemmer\n",
    "from nltk.stem.porter import PorterStemmer\n",
    "np.random.seed(2018)"
   ]
  },
  {
   "cell_type": "code",
   "execution_count": 52,
   "metadata": {},
   "outputs": [
    {
     "name": "stdout",
     "output_type": "stream",
     "text": [
      "[nltk_data] Downloading package wordnet to /Users/varsha/nltk_data...\n",
      "[nltk_data]   Package wordnet is already up-to-date!\n"
     ]
    },
    {
     "data": {
      "text/plain": [
       "True"
      ]
     },
     "execution_count": 52,
     "metadata": {},
     "output_type": "execute_result"
    }
   ],
   "source": [
    "import nltk\n",
    "nltk.download('wordnet')"
   ]
  },
  {
   "cell_type": "code",
   "execution_count": 53,
   "metadata": {},
   "outputs": [],
   "source": [
    "def lemmatize_stemming(text):\n",
    "    return stemmer.stem(WordNetLemmatizer().lemmatize(text, pos='v'))\n",
    "\n",
    "def preprocess(text):\n",
    "    result = []\n",
    "    for token in gensim.utils.simple_preprocess(text):\n",
    "        if token not in gensim.parsing.preprocessing.STOPWORDS and len(token) > 3:\n",
    "            result.append(lemmatize_stemming(token))\n",
    "    return result"
   ]
  },
  {
   "cell_type": "code",
   "execution_count": 66,
   "metadata": {},
   "outputs": [
    {
     "name": "stdout",
     "output_type": "stream",
     "text": [
      "original document: \n",
      "['https://www.bbc.com/news/correspondents/anthonyzurcher?intlink_from_url=&link_location=live-reporting-correspondent\\nAnthony', 'Zurcher\\nUS', 'mid-term', 'elections:', 'The', 'Republican', 'who', 'changed', 'his', 'mind', 'over', 'guns\\n\\nMedia', 'playback', 'is', 'unsupported', 'on', 'your', 'device', 'Media', 'caption', 'Governor', 'Scott', 'was', 'heckled', 'by', 'protesters', 'as', 'he', 'signed', 'gun-control', 'legislation\\n\\nNot', 'long', 'ago', 'Republican', 'Phil', 'Scott', 'was', 'one', 'of', 'the', 'most', 'popular', 'governors', 'in', 'America,', 'poised', 'for', 'a', 'comfortable', 're-election', 'in', 'November.', 'Then,', 'after', 'a', 'possible', 'school', 'shooting', 'was', 'discovered', 'by', 'police', 'in', 'Vermont,', 'he', 'decided', 'to', 'support', 'sweeping', 'gun-control', 'legislation', '-', 'and', 'has', 'reaped', 'a', 'political', 'whirlwind.\\n\\nThe', 'Vermont', 'governor', 'stands', 'at', 'a', 'lectern', 'in', 'front', 'of', 'the', 'state', 'capitol', 'building', 'in', 'Montpelier', 'on', 'a', 'grey,', 'blustery', 'April', 'day', 'earlier', 'this', 'year.', 'His', 'wife', 'and', 'various', 'politicians,', 'officials', 'and', 'dignitaries', 'stand', 'behind', 'him.', 'Before', 'him,', 'a', 'motley', 'crowd.', 'Some', 'are', 'cheering;', 'others', 'are', 'angry', '-', 'and', \"loud.\\n\\nHe's\", 'talking', 'about', 'gun', 'control,', 'a', 'subject', 'that', 'touches', 'raw', 'nerves', 'across', 'the', 'US,', 'even', 'in', 'serene,', 'bucolic', 'Vermont.', 'Perhaps', 'especially', 'in', 'Vermont.\\n\\n\"On', 'February', '16,\"', 'he', 'begins', 'to', 'a', 'crescendo', 'of', 'jeers,', '\"I', 'was', 'in', 'my', 'office', 'preparing', 'for', 'the', 'day', 'ahead,', 'when', 'everything', 'changed.\"\\n\\nHe', 'relates', 'how', 'he', 'received', 'an', 'affidavit', 'that', 'morning', 'detailing', 'the', 'arrest', 'of', '18-year-old', 'Jack', 'Sawyer,', 'who', 'law', 'enforcement', 'officials', 'said', 'was', 'in', 'the', 'midst', 'of', 'plotting', 'a', 'mass', 'shooting', 'at', 'a', 'high', 'school', 'in', 'Fair', 'Haven,', 'a', 'small', 'town', 'in', 'the', 'western', 'part', 'of', 'the', 'state.\\n']\n",
      "\n",
      "\n",
      " tokenized and lemmatized document: \n",
      "['http', 'news', 'correspond', 'anthonyzurch', 'link_loc', 'live', 'report', 'correspond', 'anthoni', 'zurcher', 'term', 'elect', 'republican', 'chang', 'mind', 'gun', 'media', 'playback', 'unsupport', 'devic', 'media', 'caption', 'governor', 'scott', 'heckl', 'protest', 'sign', 'control', 'legisl', 'long', 'republican', 'phil', 'scott', 'popular', 'governor', 'america', 'pois', 'comfort', 'elect', 'novemb', 'possibl', 'school', 'shoot', 'discov', 'polic', 'vermont', 'decid', 'support', 'sweep', 'control', 'legisl', 'reap', 'polit', 'whirlwind', 'vermont', 'governor', 'stand', 'lectern', 'state', 'capitol', 'build', 'montpeli', 'grey', 'blusteri', 'april', 'earlier', 'year', 'wife', 'politician', 'offici', 'dignitari', 'stand', 'motley', 'crowd', 'cheer', 'angri', 'loud', 'talk', 'control', 'subject', 'touch', 'nerv', 'seren', 'bucol', 'vermont', 'especi', 'vermont', 'februari', 'begin', 'crescendo', 'jeer', 'offic', 'prepar', 'ahead', 'chang', 'relat', 'receiv', 'affidavit', 'morn', 'detail', 'arrest', 'year', 'jack', 'sawyer', 'enforc', 'offici', 'say', 'midst', 'plot', 'mass', 'shoot', 'high', 'school', 'fair', 'haven', 'small', 'town', 'western', 'state']\n"
     ]
    }
   ],
   "source": [
    "doc_sample = new_data\n",
    "\n",
    "print('original document: ')\n",
    "words = []\n",
    "for word in doc_sample.split(' '):\n",
    "    words.append(word)\n",
    "print(words)\n",
    "print('\\n\\n tokenized and lemmatized document: ')\n",
    "print(preprocess(doc_sample))\n",
    "\n",
    "processed_data = preprocess(doc_sample)\n"
   ]
  },
  {
   "cell_type": "code",
   "execution_count": 100,
   "metadata": {},
   "outputs": [],
   "source": [
    "dictionary = gensim.corpora.Dictionary([processed_data])"
   ]
  },
  {
   "cell_type": "code",
   "execution_count": 92,
   "metadata": {},
   "outputs": [
    {
     "name": "stdout",
     "output_type": "stream",
     "text": [
      "Dictionary(99 unique tokens: ['affidavit', 'ahead', 'america', 'angri', 'anthoni']...)\n"
     ]
    }
   ],
   "source": [
    "print(dictionary)"
   ]
  },
  {
   "cell_type": "code",
   "execution_count": 93,
   "metadata": {},
   "outputs": [
    {
     "name": "stdout",
     "output_type": "stream",
     "text": [
      "0 affidavit\n",
      "1 ahead\n",
      "2 america\n",
      "3 angri\n",
      "4 anthoni\n",
      "5 anthonyzurch\n",
      "6 april\n",
      "7 arrest\n",
      "8 begin\n",
      "9 blusteri\n",
      "10 bucol\n"
     ]
    }
   ],
   "source": [
    "count = 0\n",
    "for k, v in dictionary.iteritems():\n",
    "    print(k, v)\n",
    "    count += 1\n",
    "    if count > 10:\n",
    "        break"
   ]
  },
  {
   "cell_type": "code",
   "execution_count": 130,
   "metadata": {},
   "outputs": [],
   "source": [
    "dictionary.filter_extremes(no_below=15, no_above=0.5, keep_n=100000)"
   ]
  },
  {
   "cell_type": "code",
   "execution_count": 131,
   "metadata": {},
   "outputs": [],
   "source": [
    "bow_corpus = [dictionary.doc2bow(processed_data)]\n"
   ]
  },
  {
   "cell_type": "code",
   "execution_count": 106,
   "metadata": {},
   "outputs": [
    {
     "data": {
      "text/plain": [
       "[(0, 1),\n",
       " (1, 1),\n",
       " (2, 1),\n",
       " (3, 1),\n",
       " (4, 1),\n",
       " (5, 1),\n",
       " (6, 1),\n",
       " (7, 1),\n",
       " (8, 1),\n",
       " (9, 1),\n",
       " (10, 1),\n",
       " (11, 1),\n",
       " (12, 1),\n",
       " (13, 1),\n",
       " (14, 2),\n",
       " (15, 1),\n",
       " (16, 1),\n",
       " (17, 3),\n",
       " (18, 2),\n",
       " (19, 1),\n",
       " (20, 1),\n",
       " (21, 1),\n",
       " (22, 1),\n",
       " (23, 1),\n",
       " (24, 1),\n",
       " (25, 1),\n",
       " (26, 1),\n",
       " (27, 2),\n",
       " (28, 1),\n",
       " (29, 1),\n",
       " (30, 1),\n",
       " (31, 1),\n",
       " (32, 3),\n",
       " (33, 1),\n",
       " (34, 1),\n",
       " (35, 1),\n",
       " (36, 1),\n",
       " (37, 1),\n",
       " (38, 1),\n",
       " (39, 1),\n",
       " (40, 1),\n",
       " (41, 1),\n",
       " (42, 2),\n",
       " (43, 1),\n",
       " (44, 1),\n",
       " (45, 1),\n",
       " (46, 1),\n",
       " (47, 1),\n",
       " (48, 2),\n",
       " (49, 1),\n",
       " (50, 1),\n",
       " (51, 1),\n",
       " (52, 1),\n",
       " (53, 1),\n",
       " (54, 1),\n",
       " (55, 1),\n",
       " (56, 1),\n",
       " (57, 1),\n",
       " (58, 2),\n",
       " (59, 1),\n",
       " (60, 1),\n",
       " (61, 1),\n",
       " (62, 1),\n",
       " (63, 1),\n",
       " (64, 1),\n",
       " (65, 1),\n",
       " (66, 1),\n",
       " (67, 1),\n",
       " (68, 1),\n",
       " (69, 1),\n",
       " (70, 1),\n",
       " (71, 1),\n",
       " (72, 1),\n",
       " (73, 1),\n",
       " (74, 2),\n",
       " (75, 1),\n",
       " (76, 1),\n",
       " (77, 2),\n",
       " (78, 2),\n",
       " (79, 1),\n",
       " (80, 2),\n",
       " (81, 1),\n",
       " (82, 1),\n",
       " (83, 2),\n",
       " (84, 2),\n",
       " (85, 1),\n",
       " (86, 1),\n",
       " (87, 1),\n",
       " (88, 1),\n",
       " (89, 1),\n",
       " (90, 1),\n",
       " (91, 1),\n",
       " (92, 1),\n",
       " (93, 4),\n",
       " (94, 1),\n",
       " (95, 1),\n",
       " (96, 1),\n",
       " (97, 2),\n",
       " (98, 1)]"
      ]
     },
     "execution_count": 106,
     "metadata": {},
     "output_type": "execute_result"
    }
   ],
   "source": [
    "bow_corpus[0]"
   ]
  },
  {
   "cell_type": "code",
   "execution_count": 108,
   "metadata": {},
   "outputs": [
    {
     "name": "stdout",
     "output_type": "stream",
     "text": [
      "Word 0 (\"affidavit\") appears 1 time.\n",
      "Word 1 (\"ahead\") appears 1 time.\n",
      "Word 2 (\"america\") appears 1 time.\n",
      "Word 3 (\"angri\") appears 1 time.\n",
      "Word 4 (\"anthoni\") appears 1 time.\n",
      "Word 5 (\"anthonyzurch\") appears 1 time.\n",
      "Word 6 (\"april\") appears 1 time.\n",
      "Word 7 (\"arrest\") appears 1 time.\n",
      "Word 8 (\"begin\") appears 1 time.\n",
      "Word 9 (\"blusteri\") appears 1 time.\n",
      "Word 10 (\"bucol\") appears 1 time.\n",
      "Word 11 (\"build\") appears 1 time.\n",
      "Word 12 (\"capitol\") appears 1 time.\n",
      "Word 13 (\"caption\") appears 1 time.\n",
      "Word 14 (\"chang\") appears 2 time.\n",
      "Word 15 (\"cheer\") appears 1 time.\n",
      "Word 16 (\"comfort\") appears 1 time.\n",
      "Word 17 (\"control\") appears 3 time.\n",
      "Word 18 (\"correspond\") appears 2 time.\n",
      "Word 19 (\"crescendo\") appears 1 time.\n",
      "Word 20 (\"crowd\") appears 1 time.\n",
      "Word 21 (\"decid\") appears 1 time.\n",
      "Word 22 (\"detail\") appears 1 time.\n",
      "Word 23 (\"devic\") appears 1 time.\n",
      "Word 24 (\"dignitari\") appears 1 time.\n",
      "Word 25 (\"discov\") appears 1 time.\n",
      "Word 26 (\"earlier\") appears 1 time.\n",
      "Word 27 (\"elect\") appears 2 time.\n",
      "Word 28 (\"enforc\") appears 1 time.\n",
      "Word 29 (\"especi\") appears 1 time.\n",
      "Word 30 (\"fair\") appears 1 time.\n",
      "Word 31 (\"februari\") appears 1 time.\n",
      "Word 32 (\"governor\") appears 3 time.\n",
      "Word 33 (\"grey\") appears 1 time.\n",
      "Word 34 (\"gun\") appears 1 time.\n",
      "Word 35 (\"haven\") appears 1 time.\n",
      "Word 36 (\"heckl\") appears 1 time.\n",
      "Word 37 (\"high\") appears 1 time.\n",
      "Word 38 (\"http\") appears 1 time.\n",
      "Word 39 (\"jack\") appears 1 time.\n",
      "Word 40 (\"jeer\") appears 1 time.\n",
      "Word 41 (\"lectern\") appears 1 time.\n",
      "Word 42 (\"legisl\") appears 2 time.\n",
      "Word 43 (\"link_loc\") appears 1 time.\n",
      "Word 44 (\"live\") appears 1 time.\n",
      "Word 45 (\"long\") appears 1 time.\n",
      "Word 46 (\"loud\") appears 1 time.\n",
      "Word 47 (\"mass\") appears 1 time.\n",
      "Word 48 (\"media\") appears 2 time.\n",
      "Word 49 (\"midst\") appears 1 time.\n",
      "Word 50 (\"mind\") appears 1 time.\n",
      "Word 51 (\"montpeli\") appears 1 time.\n",
      "Word 52 (\"morn\") appears 1 time.\n",
      "Word 53 (\"motley\") appears 1 time.\n",
      "Word 54 (\"nerv\") appears 1 time.\n",
      "Word 55 (\"news\") appears 1 time.\n",
      "Word 56 (\"novemb\") appears 1 time.\n",
      "Word 57 (\"offic\") appears 1 time.\n",
      "Word 58 (\"offici\") appears 2 time.\n",
      "Word 59 (\"phil\") appears 1 time.\n",
      "Word 60 (\"playback\") appears 1 time.\n",
      "Word 61 (\"plot\") appears 1 time.\n",
      "Word 62 (\"pois\") appears 1 time.\n",
      "Word 63 (\"polic\") appears 1 time.\n",
      "Word 64 (\"polit\") appears 1 time.\n",
      "Word 65 (\"politician\") appears 1 time.\n",
      "Word 66 (\"popular\") appears 1 time.\n",
      "Word 67 (\"possibl\") appears 1 time.\n",
      "Word 68 (\"prepar\") appears 1 time.\n",
      "Word 69 (\"protest\") appears 1 time.\n",
      "Word 70 (\"reap\") appears 1 time.\n",
      "Word 71 (\"receiv\") appears 1 time.\n",
      "Word 72 (\"relat\") appears 1 time.\n",
      "Word 73 (\"report\") appears 1 time.\n",
      "Word 74 (\"republican\") appears 2 time.\n",
      "Word 75 (\"sawyer\") appears 1 time.\n",
      "Word 76 (\"say\") appears 1 time.\n",
      "Word 77 (\"school\") appears 2 time.\n",
      "Word 78 (\"scott\") appears 2 time.\n",
      "Word 79 (\"seren\") appears 1 time.\n",
      "Word 80 (\"shoot\") appears 2 time.\n",
      "Word 81 (\"sign\") appears 1 time.\n",
      "Word 82 (\"small\") appears 1 time.\n",
      "Word 83 (\"stand\") appears 2 time.\n",
      "Word 84 (\"state\") appears 2 time.\n",
      "Word 85 (\"subject\") appears 1 time.\n",
      "Word 86 (\"support\") appears 1 time.\n",
      "Word 87 (\"sweep\") appears 1 time.\n",
      "Word 88 (\"talk\") appears 1 time.\n",
      "Word 89 (\"term\") appears 1 time.\n",
      "Word 90 (\"touch\") appears 1 time.\n",
      "Word 91 (\"town\") appears 1 time.\n",
      "Word 92 (\"unsupport\") appears 1 time.\n",
      "Word 93 (\"vermont\") appears 4 time.\n",
      "Word 94 (\"western\") appears 1 time.\n",
      "Word 95 (\"whirlwind\") appears 1 time.\n",
      "Word 96 (\"wife\") appears 1 time.\n",
      "Word 97 (\"year\") appears 2 time.\n",
      "Word 98 (\"zurcher\") appears 1 time.\n"
     ]
    }
   ],
   "source": [
    "bow_doc_0 = bow_corpus[0]\n",
    "\n",
    "for i in range(len(bow_doc_0)):\n",
    "    print(\"Word {} (\\\"{}\\\") appears {} time.\".format(bow_doc_0[i][0], \n",
    "                                                     dictionary[bow_doc_0[i][0]], \n",
    "                                                     bow_doc_0[i][1]))\n"
   ]
  },
  {
   "cell_type": "code",
   "execution_count": 109,
   "metadata": {},
   "outputs": [],
   "source": [
    "from gensim import corpora, models\n",
    "\n",
    "tfidf = models.TfidfModel(bow_corpus)"
   ]
  },
  {
   "cell_type": "code",
   "execution_count": 110,
   "metadata": {},
   "outputs": [],
   "source": [
    "corpus_tfidf = tfidf[bow_corpus]"
   ]
  },
  {
   "cell_type": "code",
   "execution_count": 112,
   "metadata": {},
   "outputs": [
    {
     "name": "stdout",
     "output_type": "stream",
     "text": [
      "<gensim.interfaces.TransformedCorpus object at 0x1a204dda90>\n"
     ]
    }
   ],
   "source": [
    "print(corpus_tfidf)"
   ]
  },
  {
   "cell_type": "markdown",
   "metadata": {},
   "source": [
    "# Running LDA using Bag of Words"
   ]
  },
  {
   "cell_type": "code",
   "execution_count": 113,
   "metadata": {},
   "outputs": [],
   "source": [
    "lda_model = gensim.models.LdaMulticore(bow_corpus, num_topics=10, id2word=dictionary, passes=2, workers=2)"
   ]
  },
  {
   "cell_type": "code",
   "execution_count": 114,
   "metadata": {},
   "outputs": [
    {
     "name": "stdout",
     "output_type": "stream",
     "text": [
      "Topic: 0 \n",
      "Words: 0.016*\"vermont\" + 0.014*\"control\" + 0.014*\"governor\" + 0.013*\"republican\" + 0.012*\"stand\" + 0.012*\"media\" + 0.012*\"offici\" + 0.012*\"elect\" + 0.012*\"correspond\" + 0.012*\"shoot\"\n",
      "Topic: 1 \n",
      "Words: 0.031*\"vermont\" + 0.024*\"governor\" + 0.024*\"control\" + 0.017*\"legisl\" + 0.017*\"elect\" + 0.016*\"school\" + 0.016*\"offici\" + 0.016*\"correspond\" + 0.016*\"state\" + 0.016*\"republican\"\n",
      "Topic: 2 \n",
      "Words: 0.021*\"vermont\" + 0.015*\"governor\" + 0.014*\"control\" + 0.014*\"scott\" + 0.014*\"offici\" + 0.013*\"chang\" + 0.013*\"correspond\" + 0.013*\"stand\" + 0.012*\"legisl\" + 0.012*\"state\"\n",
      "Topic: 3 \n",
      "Words: 0.010*\"governor\" + 0.010*\"vermont\" + 0.010*\"control\" + 0.010*\"offici\" + 0.010*\"media\" + 0.010*\"legisl\" + 0.010*\"chang\" + 0.010*\"year\" + 0.010*\"school\" + 0.010*\"republican\"\n",
      "Topic: 4 \n",
      "Words: 0.021*\"vermont\" + 0.016*\"governor\" + 0.016*\"control\" + 0.015*\"media\" + 0.014*\"stand\" + 0.014*\"state\" + 0.013*\"year\" + 0.013*\"chang\" + 0.013*\"school\" + 0.013*\"offici\"\n",
      "Topic: 5 \n",
      "Words: 0.014*\"vermont\" + 0.012*\"governor\" + 0.012*\"control\" + 0.012*\"year\" + 0.012*\"scott\" + 0.011*\"media\" + 0.011*\"correspond\" + 0.011*\"school\" + 0.011*\"elect\" + 0.011*\"shoot\"\n",
      "Topic: 6 \n",
      "Words: 0.017*\"control\" + 0.016*\"governor\" + 0.015*\"vermont\" + 0.013*\"correspond\" + 0.013*\"republican\" + 0.012*\"school\" + 0.012*\"chang\" + 0.012*\"year\" + 0.012*\"scott\" + 0.012*\"shoot\"\n",
      "Topic: 7 \n",
      "Words: 0.016*\"vermont\" + 0.014*\"control\" + 0.013*\"governor\" + 0.012*\"chang\" + 0.012*\"republican\" + 0.012*\"shoot\" + 0.012*\"scott\" + 0.012*\"elect\" + 0.012*\"year\" + 0.012*\"offici\"\n",
      "Topic: 8 \n",
      "Words: 0.017*\"vermont\" + 0.015*\"control\" + 0.014*\"governor\" + 0.014*\"state\" + 0.013*\"scott\" + 0.012*\"school\" + 0.012*\"stand\" + 0.012*\"legisl\" + 0.012*\"shoot\" + 0.012*\"republican\"\n",
      "Topic: 9 \n",
      "Words: 0.010*\"vermont\" + 0.010*\"control\" + 0.010*\"shoot\" + 0.010*\"legisl\" + 0.010*\"media\" + 0.010*\"school\" + 0.010*\"correspond\" + 0.010*\"year\" + 0.010*\"chang\" + 0.010*\"offici\"\n"
     ]
    }
   ],
   "source": [
    "for idx, topic in lda_model.print_topics(-1):\n",
    "    print('Topic: {} \\nWords: {}'.format(idx, topic))"
   ]
  },
  {
   "cell_type": "markdown",
   "metadata": {},
   "source": [
    "# Running LDA USING TF-IDF"
   ]
  },
  {
   "cell_type": "code",
   "execution_count": 115,
   "metadata": {},
   "outputs": [
    {
     "name": "stderr",
     "output_type": "stream",
     "text": [
      "/anaconda3/lib/python3.6/site-packages/gensim/models/ldamodel.py:579: RuntimeWarning: invalid value encountered in double_scalars\n",
      "  perwordbound = self.bound(chunk, subsample_ratio=subsample_ratio) / (subsample_ratio * corpus_words)\n"
     ]
    }
   ],
   "source": [
    "lda_model_tfidf = gensim.models.LdaMulticore(corpus_tfidf, num_topics=10, id2word=dictionary, passes=2, workers=4)"
   ]
  },
  {
   "cell_type": "code",
   "execution_count": 116,
   "metadata": {},
   "outputs": [
    {
     "name": "stdout",
     "output_type": "stream",
     "text": [
      "Topic: 0 Word: 0.010*\"prepar\" + 0.010*\"protest\" + 0.010*\"politician\" + 0.010*\"popular\" + 0.010*\"possibl\" + 0.010*\"polic\" + 0.010*\"relat\" + 0.010*\"receiv\" + 0.010*\"plot\" + 0.010*\"reap\"\n",
      "Topic: 1 Word: 0.010*\"prepar\" + 0.010*\"protest\" + 0.010*\"politician\" + 0.010*\"popular\" + 0.010*\"possibl\" + 0.010*\"polic\" + 0.010*\"relat\" + 0.010*\"receiv\" + 0.010*\"plot\" + 0.010*\"reap\"\n",
      "Topic: 2 Word: 0.010*\"prepar\" + 0.010*\"protest\" + 0.010*\"politician\" + 0.010*\"popular\" + 0.010*\"possibl\" + 0.010*\"polic\" + 0.010*\"relat\" + 0.010*\"receiv\" + 0.010*\"plot\" + 0.010*\"reap\"\n",
      "Topic: 3 Word: 0.010*\"prepar\" + 0.010*\"protest\" + 0.010*\"politician\" + 0.010*\"popular\" + 0.010*\"possibl\" + 0.010*\"polic\" + 0.010*\"relat\" + 0.010*\"receiv\" + 0.010*\"plot\" + 0.010*\"reap\"\n",
      "Topic: 4 Word: 0.010*\"prepar\" + 0.010*\"protest\" + 0.010*\"politician\" + 0.010*\"popular\" + 0.010*\"possibl\" + 0.010*\"polic\" + 0.010*\"relat\" + 0.010*\"receiv\" + 0.010*\"plot\" + 0.010*\"reap\"\n",
      "Topic: 5 Word: 0.010*\"prepar\" + 0.010*\"protest\" + 0.010*\"politician\" + 0.010*\"popular\" + 0.010*\"possibl\" + 0.010*\"polic\" + 0.010*\"relat\" + 0.010*\"receiv\" + 0.010*\"plot\" + 0.010*\"reap\"\n",
      "Topic: 6 Word: 0.010*\"prepar\" + 0.010*\"protest\" + 0.010*\"politician\" + 0.010*\"popular\" + 0.010*\"possibl\" + 0.010*\"polic\" + 0.010*\"relat\" + 0.010*\"receiv\" + 0.010*\"plot\" + 0.010*\"reap\"\n",
      "Topic: 7 Word: 0.010*\"prepar\" + 0.010*\"protest\" + 0.010*\"politician\" + 0.010*\"popular\" + 0.010*\"possibl\" + 0.010*\"polic\" + 0.010*\"relat\" + 0.010*\"receiv\" + 0.010*\"plot\" + 0.010*\"reap\"\n",
      "Topic: 8 Word: 0.010*\"prepar\" + 0.010*\"protest\" + 0.010*\"politician\" + 0.010*\"popular\" + 0.010*\"possibl\" + 0.010*\"polic\" + 0.010*\"relat\" + 0.010*\"receiv\" + 0.010*\"plot\" + 0.010*\"reap\"\n",
      "Topic: 9 Word: 0.010*\"prepar\" + 0.010*\"protest\" + 0.010*\"politician\" + 0.010*\"popular\" + 0.010*\"possibl\" + 0.010*\"polic\" + 0.010*\"relat\" + 0.010*\"receiv\" + 0.010*\"plot\" + 0.010*\"reap\"\n"
     ]
    }
   ],
   "source": [
    "for idx, topic in lda_model_tfidf.print_topics(-1):\n",
    "    print('Topic: {} Word: {}'.format(idx, topic))"
   ]
  },
  {
   "cell_type": "markdown",
   "metadata": {},
   "source": [
    "# Performance evaluation by classifying sample document using LDA Bag of Words model"
   ]
  },
  {
   "cell_type": "code",
   "execution_count": 117,
   "metadata": {},
   "outputs": [
    {
     "data": {
      "text/plain": [
       "['http',\n",
       " 'kansasc',\n",
       " 'news',\n",
       " 'polit',\n",
       " 'govern',\n",
       " 'elect',\n",
       " 'articl',\n",
       " 'html',\n",
       " 'navlink',\n",
       " 'seclist',\n",
       " 'yoder',\n",
       " 'kobach',\n",
       " 'hawley',\n",
       " 'court',\n",
       " 'conserv',\n",
       " 'penc',\n",
       " 'event',\n",
       " 'vice',\n",
       " 'presid',\n",
       " 'mike',\n",
       " 'penc',\n",
       " 'stop',\n",
       " 'kansa',\n",
       " 'citi',\n",
       " 'republican',\n",
       " 'campaign',\n",
       " 'ralli',\n",
       " 'vice',\n",
       " 'presid',\n",
       " 'mike',\n",
       " 'penc',\n",
       " 'speak',\n",
       " 'campaign',\n",
       " 'ralli',\n",
       " 'friday',\n",
       " 'afternoon',\n",
       " 'kansa',\n",
       " 'citi',\n",
       " 'promot',\n",
       " 'missouri',\n",
       " 'kansa',\n",
       " 'republican',\n",
       " 'candid',\n",
       " 'josh',\n",
       " 'hawley',\n",
       " 'kri',\n",
       " 'kobach',\n",
       " 'vicki',\n",
       " 'hartzler',\n",
       " 'kevin',\n",
       " 'yoder',\n",
       " 'steve',\n",
       " 'watkin',\n",
       " 'vice']"
      ]
     },
     "execution_count": 117,
     "metadata": {},
     "output_type": "execute_result"
    }
   ],
   "source": [
    "processed_docs[0]"
   ]
  },
  {
   "cell_type": "markdown",
   "metadata": {},
   "source": [
    "# Performance evaluation by classifying sample document using LDA TF-IDF model"
   ]
  },
  {
   "cell_type": "code",
   "execution_count": 121,
   "metadata": {},
   "outputs": [
    {
     "name": "stdout",
     "output_type": "stream",
     "text": [
      "\n",
      "Score: 0.9925000071525574\t \n",
      "Topic: 0.016*\"vermont\" + 0.014*\"control\" + 0.014*\"governor\" + 0.013*\"republican\" + 0.012*\"stand\" + 0.012*\"media\" + 0.012*\"offici\" + 0.012*\"elect\" + 0.012*\"correspond\" + 0.012*\"shoot\"\n"
     ]
    }
   ],
   "source": [
    "print(\"\\nScore: {}\\t \\nTopic: {}\".format(score, lda_model.print_topic(0)))"
   ]
  },
  {
   "cell_type": "code",
   "execution_count": 122,
   "metadata": {},
   "outputs": [
    {
     "name": "stdout",
     "output_type": "stream",
     "text": [
      "\n",
      "Score: 0.9925000071525574\t \n",
      "Topic: 0.010*\"prepar\" + 0.010*\"protest\" + 0.010*\"politician\" + 0.010*\"popular\" + 0.010*\"possibl\" + 0.010*\"polic\" + 0.010*\"relat\" + 0.010*\"receiv\" + 0.010*\"plot\" + 0.010*\"reap\"\n"
     ]
    }
   ],
   "source": [
    "print(\"\\nScore: {}\\t \\nTopic: {}\".format(score, lda_model_tfidf.print_topic(0)))"
   ]
  },
  {
   "cell_type": "code",
   "execution_count": null,
   "metadata": {},
   "outputs": [],
   "source": []
  }
 ],
 "metadata": {
  "kernelspec": {
   "display_name": "Python 3",
   "language": "python",
   "name": "python3"
  },
  "language_info": {
   "codemirror_mode": {
    "name": "ipython",
    "version": 3
   },
   "file_extension": ".py",
   "mimetype": "text/x-python",
   "name": "python",
   "nbconvert_exporter": "python",
   "pygments_lexer": "ipython3",
   "version": "3.6.6"
  }
 },
 "nbformat": 4,
 "nbformat_minor": 2
}
